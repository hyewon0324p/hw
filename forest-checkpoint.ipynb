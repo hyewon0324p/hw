{
 "cells": [
  {
   "cell_type": "markdown",
   "id": "beccfb94-bb42-45b6-b4e6-9ae50683f1cb",
   "metadata": {},
   "source": [
    "<forest fires dataset>\n",
    "\n",
    "포르투갈 북부 지역 숲에서 발생한 화재 정보\n",
    "화재 발생 여부 분석"
   ]
  },
  {
   "cell_type": "code",
   "execution_count": 30,
   "id": "d4ff6d39-16b8-4cbc-86ec-2f117de37823",
   "metadata": {},
   "outputs": [],
   "source": [
    "# 필요한 라이브러리 불러오기\n",
    "import matplotlib.pyplot as plt\n",
    "import pandas as pd\n",
    "from sklearn.model_selection import train_test_split\n",
    "from xgboost import XGBRegressor\n",
    "from sklearn.metrics import mean_squared_error, r2_score\n",
    "from sklearn.preprocessing import StandardScaler\n",
    "from sklearn.model_selection import GridSearchCV"
   ]
  },
  {
   "cell_type": "code",
   "execution_count": 31,
   "id": "5ba8c0bf-f856-4798-ab33-272e2b8a0f84",
   "metadata": {},
   "outputs": [
    {
     "name": "stdout",
     "output_type": "stream",
     "text": [
      "   X  Y month  day  FFMC   DMC     DC  ISI  temp  RH  wind  rain  area\n",
      "0  7  5   mar  fri  86.2  26.2   94.3  5.1   8.2  51   6.7   0.0   0.0\n",
      "1  7  4   oct  tue  90.6  35.4  669.1  6.7  18.0  33   0.9   0.0   0.0\n",
      "2  7  4   oct  sat  90.6  43.7  686.9  6.7  14.6  33   1.3   0.0   0.0\n",
      "3  8  6   mar  fri  91.7  33.3   77.5  9.0   8.3  97   4.0   0.2   0.0\n",
      "4  8  6   mar  sun  89.3  51.3  102.2  9.6  11.4  99   1.8   0.0   0.0\n"
     ]
    }
   ],
   "source": [
    "# 데이터 로드 및 확인\n",
    "data = pd.read_csv(r\"C:\\Users\\USER\\Downloads\\archive (3)\\forestfires.csv\")\n",
    "print(data.head())"
   ]
  },
  {
   "cell_type": "code",
   "execution_count": 32,
   "id": "e33e5ef7-304d-4e8f-9024-795bd920c4a1",
   "metadata": {},
   "outputs": [],
   "source": [
    "# 입력 값으로 기온, 습도, 풍속, 강수량 활용\n",
    "X = data[['temp', 'RH', 'wind', 'rain']]\n",
    "# 출력은 화재 면적\n",
    "y = data['area']"
   ]
  },
  {
   "cell_type": "code",
   "execution_count": 33,
   "id": "4521c4ff-6356-4861-a066-f6616696ec01",
   "metadata": {},
   "outputs": [],
   "source": [
    "# 데이터 분할 (훈련 데이터, 테스트 데이터 분리)\n",
    "X_train, X_test, y_train, y_test = train_test_split(X, y, test_size=0.2, random_state=42)"
   ]
  },
  {
   "cell_type": "markdown",
   "id": "e28c9cef-be09-407b-a5a7-1e25ef782598",
   "metadata": {},
   "source": [
    "<스케일링>\n",
    "모델이 제대로 학습되지 않음 방지를 위해 데이터 스케일링 진행\n",
    "평균, 표준편차 계산 후 스케일링\n",
    "StandardScaler -> Z=(X - mean)/std 변환 (평균이 0이고 표준 편차가 1인 분포)"
   ]
  },
  {
   "cell_type": "code",
   "execution_count": 34,
   "id": "73ae8ac3-5e70-4861-bb8a-1cfc5d7aa305",
   "metadata": {},
   "outputs": [],
   "source": [
    "# 데이터 스케일링\n",
    "scaler = StandardScaler()\n",
    "X_train = scaler.fit_transform(X_train)\n",
    "X_test = scaler.transform(X_test)"
   ]
  }
 ],
 "metadata": {
  "kernelspec": {
   "display_name": "Python 3 (ipykernel)",
   "language": "python",
   "name": "python3"
  },
  "language_info": {
   "codemirror_mode": {
    "name": "ipython",
    "version": 3
   },
   "file_extension": ".py",
   "mimetype": "text/x-python",
   "name": "python",
   "nbconvert_exporter": "python",
   "pygments_lexer": "ipython3",
   "version": "3.12.4"
  }
 },
 "nbformat": 4,
 "nbformat_minor": 5
}
