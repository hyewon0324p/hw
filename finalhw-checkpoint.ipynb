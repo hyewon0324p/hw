{
 "cells": [
  {
   "cell_type": "code",
   "execution_count": 1,
   "id": "ce5b4723-142a-4d0c-b734-08168d647fb8",
   "metadata": {},
   "outputs": [],
   "source": [
    "# 라이브러리\n",
    "import pandas as pd\n",
    "import numpy as np\n",
    "import matplotlib.pyplot as plt\n",
    "from sklearn.model_selection import train_test_split\n",
    "from sklearn.feature_extraction.text import TfidfVectorizer\n",
    "from sklearn.metrics import classification_report, accuracy_score\n",
    "import xgboost as xgb"
   ]
  },
  {
   "cell_type": "code",
   "execution_count": 2,
   "id": "98e19216-bb02-4988-9bbf-0947538db049",
   "metadata": {},
   "outputs": [],
   "source": [
    "# 데이터 셋\n",
    "data_path = r\"C:\\Users\\USER\\Downloads\\archive (1)\\Reviews.csv\"\n",
    "data = pd.read_csv(data_path)"
   ]
  },
  {
   "cell_type": "code",
   "execution_count": 3,
   "id": "6c9a451e-aff6-4233-a79e-9a174e154f03",
   "metadata": {},
   "outputs": [
    {
     "name": "stdout",
     "output_type": "stream",
     "text": [
      "   Id   ProductId          UserId                      ProfileName  \\\n",
      "0   1  B001E4KFG0  A3SGXH7AUHU8GW                       delmartian   \n",
      "1   2  B00813GRG4  A1D87F6ZCVE5NK                           dll pa   \n",
      "2   3  B000LQOCH0   ABXLMWJIXXAIN  Natalia Corres \"Natalia Corres\"   \n",
      "3   4  B000UA0QIQ  A395BORC6FGVXV                             Karl   \n",
      "4   5  B006K2ZZ7K  A1UQRSCLF8GW1T    Michael D. Bigham \"M. Wassir\"   \n",
      "\n",
      "   HelpfulnessNumerator  HelpfulnessDenominator  Score        Time  \\\n",
      "0                     1                       1      5  1303862400   \n",
      "1                     0                       0      1  1346976000   \n",
      "2                     1                       1      4  1219017600   \n",
      "3                     3                       3      2  1307923200   \n",
      "4                     0                       0      5  1350777600   \n",
      "\n",
      "                 Summary                                               Text  \n",
      "0  Good Quality Dog Food  I have bought several of the Vitality canned d...  \n",
      "1      Not as Advertised  Product arrived labeled as Jumbo Salted Peanut...  \n",
      "2  \"Delight\" says it all  This is a confection that has been around a fe...  \n",
      "3         Cough Medicine  If you are looking for the secret ingredient i...  \n",
      "4            Great taffy  Great taffy at a great price.  There was a wid...  \n"
     ]
    }
   ],
   "source": [
    "print(data.head())"
   ]
  },
  {
   "cell_type": "code",
   "execution_count": 4,
   "id": "ee8ef40d-3792-4db3-8a7b-cf58f67b968a",
   "metadata": {},
   "outputs": [],
   "source": [
    "# 텍스트, 스코어만 가져오기 (텍스트 리뷰, 5점 만점의 만족도 점수)\n",
    "data = data[[\"Text\", \"Score\"]]"
   ]
  },
  {
   "cell_type": "code",
   "execution_count": 5,
   "id": "0091a2bd-398f-4c71-8b3d-d31e51277a64",
   "metadata": {},
   "outputs": [],
   "source": [
    "# 긍정과 부정 점수 나누기\n",
    "# 중립(3점) 제거\n",
    "data = data[data['Score'] != 3]\n",
    "# 4,5점은 긍정 -> 1 / 1,2점은 부정 -> 0\n",
    "def assign_sentiment(score):\n",
    "    if score > 3:\n",
    "        return 1\n",
    "    else:\n",
    "        return 0\n",
    "data['Sentiment'] = data['Score'].apply(assign_sentiment)\n",
    "data = data[['Text', 'Sentiment']]"
   ]
  },
  {
   "cell_type": "code",
   "execution_count": 6,
   "id": "fff36ea7-9680-4813-957f-06651dff75de",
   "metadata": {},
   "outputs": [],
   "source": [
    "# 결측치 제거 (None 값 제거)\n",
    "data = data.dropna()"
   ]
  },
  {
   "cell_type": "code",
   "execution_count": 7,
   "id": "d28b97a4-ff54-443b-8fda-4e37513b8537",
   "metadata": {},
   "outputs": [],
   "source": [
    "X = data['Text']\n",
    "y = data['Sentiment']\n",
    "X_train, X_test, y_train, y_test = train_test_split(X, y, test_size=0.2, random_state=42)"
   ]
  },
  {
   "cell_type": "code",
   "execution_count": 8,
   "id": "d4fa6ac0-85ff-4cd9-afeb-28beb2794ad8",
   "metadata": {},
   "outputs": [
    {
     "name": "stdout",
     "output_type": "stream",
     "text": [
      "훈련 세트 크기: X_train=420651, y_train=420651\n",
      "테스트 세트 크기: X_test=105163, y_test=105163\n"
     ]
    }
   ],
   "source": [
    "print(f\"훈련 세트 크기: X_train={len(X_train)}, y_train={len(y_train)}\")\n",
    "print(f\"테스트 세트 크기: X_test={len(X_test)}, y_test={len(y_test)}\")"
   ]
  }
 ],
 "metadata": {
  "kernelspec": {
   "display_name": "Python 3 (ipykernel)",
   "language": "python",
   "name": "python3"
  },
  "language_info": {
   "codemirror_mode": {
    "name": "ipython",
    "version": 3
   },
   "file_extension": ".py",
   "mimetype": "text/x-python",
   "name": "python",
   "nbconvert_exporter": "python",
   "pygments_lexer": "ipython3",
   "version": "3.12.4"
  }
 },
 "nbformat": 4,
 "nbformat_minor": 5
}
